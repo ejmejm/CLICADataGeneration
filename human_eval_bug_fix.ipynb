{
 "cells": [
  {
   "cell_type": "code",
   "execution_count": 7,
   "metadata": {},
   "outputs": [],
   "source": [
    "import concurrent.futures\n",
    "import json\n",
    "import traceback\n",
    "\n",
    "from human_eval.data import read_problems\n",
    "from human_eval.execution import check_correctness\n",
    "import litellm\n",
    "from pydantic import BaseModel\n",
    "from tqdm import tqdm"
   ]
  },
  {
   "cell_type": "code",
   "execution_count": 2,
   "metadata": {},
   "outputs": [],
   "source": [
    "LLM_NAME = 'gpt-4o-mini'\n",
    "TEST_TIMEOUT = 10 # seconds\n",
    "MAX_TOKENS = 512\n",
    "MAX_RETRIES = 6\n",
    "# \"gpt-4o-mini\", \"gpt-4o\", \"o1-preview\", \"o1-mini\""
   ]
  },
  {
   "cell_type": "code",
   "execution_count": 3,
   "metadata": {},
   "outputs": [],
   "source": [
    "class BugResponse(BaseModel):\n",
    "    bug_explanation: str\n",
    "    buggy_code: str\n",
    "    \n",
    "    \n",
    "def introduce_bug(problem):\n",
    "    prompt = f\"\"\"\n",
    "    Here's a Python function:\n",
    "\n",
    "    {problem['prompt']}\n",
    "    {problem['canonical_solution']}\n",
    "\n",
    "    Introduce a subtle bug in this function. Provide your response in JSON format with two fields:\n",
    "    1. 'bug_explanation': A brief (maximum 2 sentences) description of the bug you introduced.\n",
    "    2. 'buggy_code': The function with the bug introduced (code should start from just after the function signature and docstring). Code should start with a new line and indent.\n",
    "    \"\"\"\n",
    "    response = litellm.completion(\n",
    "        model = LLM_NAME,\n",
    "        messages = [{\n",
    "            'role': 'user',\n",
    "            'content': prompt\n",
    "        }],\n",
    "        response_format = BugResponse if 'gpt' in LLM_NAME.lower() else None,\n",
    "        max_tokens = MAX_TOKENS,\n",
    "    )\n",
    "    \n",
    "    content = response.choices[0].message.content\n",
    "    \n",
    "    if content.startswith('```json'):\n",
    "        content = content.strip('```json').strip('\\n').strip('```')\n",
    "    elif content.startswith('```'):\n",
    "        content = content.strip('```').strip('\\n')\n",
    "    \n",
    "    response_dict = json.loads(content)\n",
    "    return response_dict"
   ]
  },
  {
   "cell_type": "code",
   "execution_count": 4,
   "metadata": {},
   "outputs": [],
   "source": [
    "def create_problem_with_bug(problem, max_attempts=MAX_RETRIES):\n",
    "    for _ in range(max_attempts):\n",
    "        try:\n",
    "            bug_info = introduce_bug(problem)\n",
    "            buggy_completion = bug_info['buggy_code']\n",
    "            \n",
    "            # Check if the buggy solution fails the tests\n",
    "            result = check_correctness(problem, buggy_completion, TEST_TIMEOUT)\n",
    "            # pprint(problem)\n",
    "            # pprint(bug_info)\n",
    "            # pprint(result)\n",
    "            \n",
    "            if not result['passed']:\n",
    "                # Bug successfully introduced\n",
    "                problem_with_bug = problem.copy()\n",
    "                problem_with_bug['incorrect_solution'] = buggy_completion\n",
    "                problem_with_bug['bug_explanation'] = bug_info['bug_explanation']\n",
    "                return problem_with_bug\n",
    "        except Exception as e:\n",
    "            print(f\"Error in create_buggy_problem: {e}\")\n",
    "            print(traceback.format_exc())\n",
    "\n",
    "\n",
    "def process_problem(item):\n",
    "    task_id, problem = item\n",
    "    buggy_problem = create_problem_with_bug(problem)\n",
    "    return task_id, buggy_problem\n",
    "\n",
    "\n",
    "def create_problems_with_bug_parallel(problems, max_workers=8):\n",
    "    buggy_problems = {}\n",
    "    with concurrent.futures.ThreadPoolExecutor(max_workers=max_workers) as executor:\n",
    "        future_to_task = {executor.submit(process_problem, item): item[0] for item in problems.items()}\n",
    "        for future in tqdm(concurrent.futures.as_completed(future_to_task), total=len(future_to_task)):\n",
    "            task_id = future_to_task[future]\n",
    "            try:\n",
    "                task_id, result = future.result()\n",
    "                if result:\n",
    "                    buggy_problems[task_id] = result\n",
    "                else:\n",
    "                    print(f\"Failed to create buggy problem for task {task_id}\")\n",
    "            except Exception as e:\n",
    "                print(f\"Error processing task {task_id}: {e}\")\n",
    "    \n",
    "    return buggy_problems"
   ]
  },
  {
   "cell_type": "code",
   "execution_count": 5,
   "metadata": {},
   "outputs": [],
   "source": [
    "# problems = read_problems()\n",
    "# introduce_bug(problems[list(problems.keys())[0]])"
   ]
  },
  {
   "cell_type": "code",
   "execution_count": 6,
   "metadata": {},
   "outputs": [
    {
     "name": "stdout",
     "output_type": "stream",
     "text": [
      "Failed to create buggy problem for task HumanEval/24\n",
      "Failed to create buggy problem for task HumanEval/35\n",
      "Failed to create buggy problem for task HumanEval/44\n",
      "Failed to create buggy problem for task HumanEval/111\n",
      "Failed to create buggy problem for task HumanEval/99\n",
      "Failed to create buggy problem for task HumanEval/137\n",
      "Failed to create buggy problem for task HumanEval/161\n",
      "Failed to create buggy problem for task HumanEval/156\n",
      "Failed to create buggy problem for task HumanEval/163\n",
      "Total problems: 164\n",
      "Buggy problems created: 155\n"
     ]
    }
   ],
   "source": [
    "problems = read_problems()\n",
    "buggy_problems = create_problems_with_bug_parallel(problems)\n",
    "\n",
    "# Print some statistics\n",
    "print(f\"Total problems: {len(problems)}\")\n",
    "print(f\"Buggy problems created: {len(buggy_problems)}\")\n",
    "\n",
    "# Optionally, you can save the buggy_problems to a file\n",
    "with open('data/human_eval_with_bugs.json', 'w') as f:\n",
    "    json.dump(buggy_problems, f)"
   ]
  }
 ],
 "metadata": {
  "kernelspec": {
   "display_name": "intract",
   "language": "python",
   "name": "python3"
  },
  "language_info": {
   "codemirror_mode": {
    "name": "ipython",
    "version": 3
   },
   "file_extension": ".py",
   "mimetype": "text/x-python",
   "name": "python",
   "nbconvert_exporter": "python",
   "pygments_lexer": "ipython3",
   "version": "3.9.16"
  }
 },
 "nbformat": 4,
 "nbformat_minor": 2
}
