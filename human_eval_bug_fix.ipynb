{
 "cells": [
  {
   "cell_type": "code",
   "execution_count": 7,
   "metadata": {},
   "outputs": [],
   "source": [
    "import concurrent.futures\n",
    "import json\n",
    "from pprint import pprint\n",
    "import re\n",
    "import traceback\n",
    "\n",
    "from human_eval.data import read_problems, write_jsonl\n",
    "from human_eval.execution import check_correctness\n",
    "import litellm\n",
    "from pydantic import BaseModel\n",
    "from tqdm import tqdm"
   ]
  },
  {
   "cell_type": "code",
   "execution_count": 2,
   "metadata": {},
   "outputs": [],
   "source": [
    "LLM_NAME = 'gpt-4o' # 'gpt-4o-mini'\n",
    "TEST_TIMEOUT = 15 # seconds\n",
    "MAX_TOKENS = 512\n",
    "MAX_RETRIES = 10\n",
    "# \"gpt-4o-mini\", \"gpt-4o\", \"o1-preview\", \"o1-mini\"\n",
    "\n",
    "GENERATION_KWARGS = {\n",
    "    'temperature': 1.4,\n",
    "    'top_p': 0.1,\n",
    "}"
   ]
  },
  {
   "cell_type": "code",
   "execution_count": 3,
   "metadata": {},
   "outputs": [],
   "source": [
    "class BugResponse(BaseModel):\n",
    "    bug_explanation: str\n",
    "    buggy_code: str\n",
    "\n",
    "\n",
    "def introduce_bug(problem):\n",
    "    prompt = f\"\"\"\n",
    "    Here's a Python function:\n",
    "\n",
    "    {problem['prompt']}\n",
    "    {problem['canonical_solution']}\n",
    "\n",
    "    Introduce a bug in this function. It could be very simple and obvious or complex and subtle. Provide your response in JSON format with two fields:\n",
    "    1. 'bug_explanation': A brief (maximum 2 sentences) description of the bug you introduced.\n",
    "    2. 'buggy_code': The function with the bug introduced (code should start from just after the function signature and docstring). The first line should start with a four space indent. Do not include comments in the code.\n",
    "    \"\"\"\n",
    "    response = litellm.completion(\n",
    "        model = LLM_NAME,\n",
    "        messages = [{\n",
    "            'role': 'user',\n",
    "            'content': prompt\n",
    "        }],\n",
    "        response_format = BugResponse if 'gpt' in LLM_NAME.lower() else None,\n",
    "        max_tokens = MAX_TOKENS,\n",
    "        **GENERATION_KWARGS,\n",
    "    )\n",
    "    \n",
    "    content = response.choices[0].message.content\n",
    "    content = json.loads(content)\n",
    "    # print('=' * 60)\n",
    "    # print(content['buggy_code'])\n",
    "    # print('=' * 60)\n",
    "\n",
    "    if not content['buggy_code'].endswith('\\n'):\n",
    "        content['buggy_code'] += '\\n'\n",
    "    if not content['buggy_code'].strip('\\n').startswith('    '):\n",
    "        raise ValueError('Code does not start with an indent')\n",
    "\n",
    "    if content['buggy_code'].startswith('```json'):\n",
    "        content['buggy_code'] = content['buggy_code'].strip('```json').strip('\\n').strip('```')\n",
    "    elif content['buggy_code'].startswith('```'):\n",
    "        content['buggy_code'] = content['buggy_code'].strip('```').strip('\\n')\n",
    "        \n",
    "    # Remove comments from the buggy code\n",
    "    content['buggy_code'] = re.sub(r'#.*?(\\n|$)', '\\n', content['buggy_code'])\n",
    "    \n",
    "    return content\n"
   ]
  },
  {
   "cell_type": "code",
   "execution_count": 4,
   "metadata": {},
   "outputs": [],
   "source": [
    "def create_problem_with_bug(problem, max_attempts=MAX_RETRIES):\n",
    "    for _ in range(max_attempts):\n",
    "        try:\n",
    "            bug_info = introduce_bug(problem)\n",
    "            buggy_completion = bug_info['buggy_code']\n",
    "            \n",
    "            # Check if the buggy solution fails the tests\n",
    "            result = check_correctness(problem, buggy_completion, TEST_TIMEOUT)\n",
    "            # print('=' * 60)\n",
    "            # pprint(problem)\n",
    "            # pprint(bug_info)\n",
    "            # pprint(result)\n",
    "            \n",
    "            if not result['passed']:\n",
    "                # Bug successfully introduced\n",
    "                problem_with_bug = problem.copy()\n",
    "                problem_with_bug['incorrect_solution'] = buggy_completion\n",
    "                problem_with_bug['bug_explanation'] = bug_info['bug_explanation']\n",
    "                return problem_with_bug\n",
    "        except Exception as e:\n",
    "            print(f\"Error in create_buggy_problem: {e}\")\n",
    "            print(traceback.format_exc())\n",
    "\n",
    "\n",
    "def process_problem(item):\n",
    "    task_id, problem = item\n",
    "    buggy_problem = create_problem_with_bug(problem)\n",
    "    return task_id, buggy_problem\n",
    "\n",
    "\n",
    "def create_problems_with_bug_parallel(problems, max_workers=8):\n",
    "    buggy_problems = {}\n",
    "    with concurrent.futures.ThreadPoolExecutor(max_workers=max_workers) as executor:\n",
    "        future_to_task = {executor.submit(process_problem, item): item[0] for item in list(problems.items())}\n",
    "        for future in tqdm(concurrent.futures.as_completed(future_to_task), total=len(future_to_task)):\n",
    "            task_id = future_to_task[future]\n",
    "            try:\n",
    "                task_id, result = future.result()\n",
    "                if result:\n",
    "                    buggy_problems[task_id] = result\n",
    "                else:\n",
    "                    print(f\"Failed to create buggy problem for task {task_id}\")\n",
    "            except Exception as e:\n",
    "                print(f\"Error processing task {task_id}: {e}\")\n",
    "    \n",
    "    return buggy_problems\n"
   ]
  },
  {
   "cell_type": "code",
   "execution_count": 5,
   "metadata": {},
   "outputs": [],
   "source": [
    "# problems = read_problems()\n",
    "# introduce_bug(problems[list(problems.keys())[0]])"
   ]
  },
  {
   "cell_type": "code",
   "execution_count": 11,
   "metadata": {},
   "outputs": [
    {
     "ename": "TypeError",
     "evalue": "expected str, bytes or os.PathLike object, not dict",
     "output_type": "error",
     "traceback": [
      "\u001b[0;31m---------------------------------------------------------------------------\u001b[0m",
      "\u001b[0;31mTypeError\u001b[0m                                 Traceback (most recent call last)",
      "Cell \u001b[0;32mIn[11], line 9\u001b[0m\n\u001b[1;32m      1\u001b[0m \u001b[38;5;66;03m# problems = read_problems()\u001b[39;00m\n\u001b[1;32m      2\u001b[0m \u001b[38;5;66;03m# buggy_problems = create_problems_with_bug_parallel(problems)\u001b[39;00m\n\u001b[1;32m      3\u001b[0m \n\u001b[0;32m   (...)\u001b[0m\n\u001b[1;32m      7\u001b[0m \n\u001b[1;32m      8\u001b[0m \u001b[38;5;66;03m# Optionally, you can save the buggy_problems to a file\u001b[39;00m\n\u001b[0;32m----> 9\u001b[0m \u001b[43mwrite_jsonl\u001b[49m\u001b[43m(\u001b[49m\u001b[43mbuggy_problems\u001b[49m\u001b[43m,\u001b[49m\u001b[43m \u001b[49m\u001b[38;5;124;43m'\u001b[39;49m\u001b[38;5;124;43mdata/human_eval_with_bugs.jsonl\u001b[39;49m\u001b[38;5;124;43m'\u001b[39;49m\u001b[43m)\u001b[49m\n\u001b[1;32m     10\u001b[0m \u001b[38;5;66;03m# with open('data/human_eval_with_bugs.json', 'w') as f:\u001b[39;00m\n\u001b[1;32m     11\u001b[0m \u001b[38;5;66;03m#     json.dump(buggy_problems, f)\u001b[39;00m\n",
      "File \u001b[0;32m~/miniconda3/envs/intract/lib/python3.9/site-packages/human_eval/data.py:40\u001b[0m, in \u001b[0;36mwrite_jsonl\u001b[0;34m(filename, data, append)\u001b[0m\n\u001b[1;32m     38\u001b[0m \u001b[38;5;28;01melse\u001b[39;00m:\n\u001b[1;32m     39\u001b[0m     mode \u001b[38;5;241m=\u001b[39m \u001b[38;5;124m'\u001b[39m\u001b[38;5;124mwb\u001b[39m\u001b[38;5;124m'\u001b[39m\n\u001b[0;32m---> 40\u001b[0m filename \u001b[38;5;241m=\u001b[39m \u001b[43mos\u001b[49m\u001b[38;5;241;43m.\u001b[39;49m\u001b[43mpath\u001b[49m\u001b[38;5;241;43m.\u001b[39;49m\u001b[43mexpanduser\u001b[49m\u001b[43m(\u001b[49m\u001b[43mfilename\u001b[49m\u001b[43m)\u001b[49m\n\u001b[1;32m     41\u001b[0m \u001b[38;5;28;01mif\u001b[39;00m filename\u001b[38;5;241m.\u001b[39mendswith(\u001b[38;5;124m\"\u001b[39m\u001b[38;5;124m.gz\u001b[39m\u001b[38;5;124m\"\u001b[39m):\n\u001b[1;32m     42\u001b[0m     \u001b[38;5;28;01mwith\u001b[39;00m \u001b[38;5;28mopen\u001b[39m(filename, mode) \u001b[38;5;28;01mas\u001b[39;00m fp:\n",
      "File \u001b[0;32m~/miniconda3/envs/intract/lib/python3.9/posixpath.py:231\u001b[0m, in \u001b[0;36mexpanduser\u001b[0;34m(path)\u001b[0m\n\u001b[1;32m    228\u001b[0m \u001b[38;5;28;01mdef\u001b[39;00m \u001b[38;5;21mexpanduser\u001b[39m(path):\n\u001b[1;32m    229\u001b[0m \u001b[38;5;250m    \u001b[39m\u001b[38;5;124;03m\"\"\"Expand ~ and ~user constructions.  If user or $HOME is unknown,\u001b[39;00m\n\u001b[1;32m    230\u001b[0m \u001b[38;5;124;03m    do nothing.\"\"\"\u001b[39;00m\n\u001b[0;32m--> 231\u001b[0m     path \u001b[38;5;241m=\u001b[39m \u001b[43mos\u001b[49m\u001b[38;5;241;43m.\u001b[39;49m\u001b[43mfspath\u001b[49m\u001b[43m(\u001b[49m\u001b[43mpath\u001b[49m\u001b[43m)\u001b[49m\n\u001b[1;32m    232\u001b[0m     \u001b[38;5;28;01mif\u001b[39;00m \u001b[38;5;28misinstance\u001b[39m(path, \u001b[38;5;28mbytes\u001b[39m):\n\u001b[1;32m    233\u001b[0m         tilde \u001b[38;5;241m=\u001b[39m \u001b[38;5;124mb\u001b[39m\u001b[38;5;124m'\u001b[39m\u001b[38;5;124m~\u001b[39m\u001b[38;5;124m'\u001b[39m\n",
      "\u001b[0;31mTypeError\u001b[0m: expected str, bytes or os.PathLike object, not dict"
     ]
    },
    {
     "name": "stdout",
     "output_type": "stream",
     "text": [
      "Error in create_buggy_problem: Socket operation on non-socketError in create_buggy_problem: Socket operation on non-socketError in create_buggy_problem: Socket operation on non-socketError in create_buggy_problem: Socket operation on non-socketError in create_buggy_problem: Socket operation on non-socketError in create_buggy_problem: Socket operation on non-socketError in create_buggy_problem: Socket operation on non-socketError in create_buggy_problem: Socket operation on non-socketError in create_buggy_problem: Socket operation on non-socketError in create_buggy_problem: Socket operation on non-socketError in create_buggy_problem: Socket operation on non-socketError in create_buggy_problem: Socket operation on non-socketError in create_buggy_problem: Socket operation on non-socket"
     ]
    }
   ],
   "source": [
    "problems = read_problems()\n",
    "buggy_problems = create_problems_with_bug_parallel(problems)\n",
    "\n",
    "# Print some statistics\n",
    "print(f\"Total problems: {len(problems)}\")\n",
    "print(f\"Buggy problems created: {len(buggy_problems)}\")\n",
    "\n",
    "# Optionally, you can save the buggy_problems to a file\n",
    "write_jsonl(buggy_problems, 'data/human_eval_with_bugs.jsonl')"
   ]
  }
 ],
 "metadata": {
  "kernelspec": {
   "display_name": "intract",
   "language": "python",
   "name": "python3"
  },
  "language_info": {
   "codemirror_mode": {
    "name": "ipython",
    "version": 3
   },
   "file_extension": ".py",
   "mimetype": "text/x-python",
   "name": "python",
   "nbconvert_exporter": "python",
   "pygments_lexer": "ipython3",
   "version": "3.9.16"
  }
 },
 "nbformat": 4,
 "nbformat_minor": 2
}
