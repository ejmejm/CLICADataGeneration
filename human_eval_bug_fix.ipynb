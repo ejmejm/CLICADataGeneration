{
 "cells": [
  {
   "cell_type": "code",
   "execution_count": 1,
   "metadata": {},
   "outputs": [],
   "source": [
    "import concurrent.futures\n",
    "import json\n",
    "from pprint import pprint\n",
    "import re\n",
    "import traceback\n",
    "\n",
    "from human_eval.data import read_problems\n",
    "from human_eval.execution import check_correctness\n",
    "import litellm\n",
    "from pydantic import BaseModel\n",
    "from tqdm import tqdm"
   ]
  },
  {
   "cell_type": "code",
   "execution_count": 2,
   "metadata": {},
   "outputs": [],
   "source": [
    "LLM_NAME = 'gpt-4o' # 'gpt-4o-mini'\n",
    "TEST_TIMEOUT = 15 # seconds\n",
    "MAX_TOKENS = 512\n",
    "MAX_RETRIES = 10\n",
    "# \"gpt-4o-mini\", \"gpt-4o\", \"o1-preview\", \"o1-mini\"\n",
    "\n",
    "GENERATION_KWARGS = {\n",
    "    'temperature': 1.4,\n",
    "    'top_p': 0.1,\n",
    "}"
   ]
  },
  {
   "cell_type": "code",
   "execution_count": 3,
   "metadata": {},
   "outputs": [],
   "source": [
    "class BugResponse(BaseModel):\n",
    "    bug_explanation: str\n",
    "    buggy_code: str\n",
    "\n",
    "\n",
    "def introduce_bug(problem):\n",
    "    prompt = f\"\"\"\n",
    "    Here's a Python function:\n",
    "\n",
    "    {problem['prompt']}\n",
    "    {problem['canonical_solution']}\n",
    "\n",
    "    Introduce a bug in this function. It could be very simple and obvious or complex and subtle. Provide your response in JSON format with two fields:\n",
    "    1. 'bug_explanation': A brief (maximum 2 sentences) description of the bug you introduced.\n",
    "    2. 'buggy_code': The function with the bug introduced (code should start from just after the function signature and docstring). The first line should start with a four space indent. Do not include comments in the code.\n",
    "    \"\"\"\n",
    "    response = litellm.completion(\n",
    "        model = LLM_NAME,\n",
    "        messages = [{\n",
    "            'role': 'user',\n",
    "            'content': prompt\n",
    "        }],\n",
    "        response_format = BugResponse if 'gpt' in LLM_NAME.lower() else None,\n",
    "        max_tokens = MAX_TOKENS,\n",
    "        **GENERATION_KWARGS,\n",
    "    )\n",
    "    \n",
    "    content = response.choices[0].message.content\n",
    "    content = json.loads(content)\n",
    "    # print('=' * 60)\n",
    "    # print(content['buggy_code'])\n",
    "    # print('=' * 60)\n",
    "\n",
    "    if not content['buggy_code'].endswith('\\n'):\n",
    "        content['buggy_code'] += '\\n'\n",
    "    if not content['buggy_code'].strip('\\n').startswith('    '):\n",
    "        raise ValueError('Code does not start with an indent')\n",
    "\n",
    "    if content['buggy_code'].startswith('```json'):\n",
    "        content['buggy_code'] = content['buggy_code'].strip('```json').strip('\\n').strip('```')\n",
    "    elif content['buggy_code'].startswith('```'):\n",
    "        content['buggy_code'] = content['buggy_code'].strip('```').strip('\\n')\n",
    "        \n",
    "    # Remove comments from the buggy code\n",
    "    content['buggy_code'] = re.sub(r'#.*?(\\n|$)', '\\n', content['buggy_code'])\n",
    "    \n",
    "    return content\n"
   ]
  },
  {
   "cell_type": "code",
   "execution_count": 4,
   "metadata": {},
   "outputs": [],
   "source": [
    "def create_problem_with_bug(problem, max_attempts=MAX_RETRIES):\n",
    "    for _ in range(max_attempts):\n",
    "        try:\n",
    "            bug_info = introduce_bug(problem)\n",
    "            buggy_completion = bug_info['buggy_code']\n",
    "            \n",
    "            # Check if the buggy solution fails the tests\n",
    "            result = check_correctness(problem, buggy_completion, TEST_TIMEOUT)\n",
    "            # print('=' * 60)\n",
    "            # pprint(problem)\n",
    "            # pprint(bug_info)\n",
    "            # pprint(result)\n",
    "            \n",
    "            if not result['passed']:\n",
    "                # Bug successfully introduced\n",
    "                problem_with_bug = problem.copy()\n",
    "                problem_with_bug['incorrect_solution'] = buggy_completion\n",
    "                problem_with_bug['bug_explanation'] = bug_info['bug_explanation']\n",
    "                return problem_with_bug\n",
    "        except Exception as e:\n",
    "            print(f\"Error in create_buggy_problem: {e}\")\n",
    "            print(traceback.format_exc())\n",
    "\n",
    "\n",
    "def process_problem(item):\n",
    "    task_id, problem = item\n",
    "    buggy_problem = create_problem_with_bug(problem)\n",
    "    return task_id, buggy_problem\n",
    "\n",
    "\n",
    "def create_problems_with_bug_parallel(problems, max_workers=8):\n",
    "    buggy_problems = {}\n",
    "    with concurrent.futures.ThreadPoolExecutor(max_workers=max_workers) as executor:\n",
    "        future_to_task = {executor.submit(process_problem, item): item[0] for item in list(problems.items())}\n",
    "        for future in tqdm(concurrent.futures.as_completed(future_to_task), total=len(future_to_task)):\n",
    "            task_id = future_to_task[future]\n",
    "            try:\n",
    "                task_id, result = future.result()\n",
    "                if result:\n",
    "                    buggy_problems[task_id] = result\n",
    "                else:\n",
    "                    print(f\"Failed to create buggy problem for task {task_id}\")\n",
    "            except Exception as e:\n",
    "                print(f\"Error processing task {task_id}: {e}\")\n",
    "    \n",
    "    return buggy_problems\n"
   ]
  },
  {
   "cell_type": "code",
   "execution_count": 5,
   "metadata": {},
   "outputs": [],
   "source": [
    "# problems = read_problems()\n",
    "# introduce_bug(problems[list(problems.keys())[0]])"
   ]
  },
  {
   "cell_type": "code",
   "execution_count": 6,
   "metadata": {},
   "outputs": [
    {
     "name": "stderr",
     "output_type": "stream",
     "text": [
      " 12%|█▏        | 19/164 [00:12<01:04,  2.26it/s]"
     ]
    },
    {
     "name": "stdout",
     "output_type": "stream",
     "text": [
      "Failed to create buggy problem for task HumanEval/7\n"
     ]
    },
    {
     "name": "stderr",
     "output_type": "stream",
     "text": [
      " 19%|█▉        | 31/164 [00:21<02:43,  1.23s/it]"
     ]
    },
    {
     "name": "stdout",
     "output_type": "stream",
     "text": [
      "Failed to create buggy problem for task HumanEval/16\n"
     ]
    },
    {
     "name": "stderr",
     "output_type": "stream",
     "text": [
      " 20%|█▉        | 32/164 [00:22<02:43,  1.24s/it]"
     ]
    },
    {
     "name": "stdout",
     "output_type": "stream",
     "text": [
      "Failed to create buggy problem for task HumanEval/28\n"
     ]
    },
    {
     "name": "stderr",
     "output_type": "stream",
     "text": [
      " 22%|██▏       | 36/164 [00:25<01:36,  1.32it/s]"
     ]
    },
    {
     "name": "stdout",
     "output_type": "stream",
     "text": [
      "Failed to create buggy problem for task HumanEval/27\n"
     ]
    },
    {
     "name": "stderr",
     "output_type": "stream",
     "text": [
      " 23%|██▎       | 37/164 [00:25<01:21,  1.56it/s]"
     ]
    },
    {
     "name": "stdout",
     "output_type": "stream",
     "text": [
      "Failed to create buggy problem for task HumanEval/29\n"
     ]
    },
    {
     "name": "stderr",
     "output_type": "stream",
     "text": [
      " 26%|██▌       | 42/164 [00:26<00:49,  2.49it/s]"
     ]
    },
    {
     "name": "stdout",
     "output_type": "stream",
     "text": [
      "Failed to create buggy problem for task HumanEval/34\n"
     ]
    },
    {
     "name": "stderr",
     "output_type": "stream",
     "text": [
      " 28%|██▊       | 46/164 [00:29<00:56,  2.10it/s]"
     ]
    },
    {
     "name": "stdout",
     "output_type": "stream",
     "text": [
      "Failed to create buggy problem for task HumanEval/35\n"
     ]
    },
    {
     "name": "stderr",
     "output_type": "stream",
     "text": [
      " 34%|███▍      | 56/164 [00:39<02:53,  1.61s/it]"
     ]
    },
    {
     "name": "stdout",
     "output_type": "stream",
     "text": [
      "Failed to create buggy problem for task HumanEval/42\n"
     ]
    },
    {
     "name": "stderr",
     "output_type": "stream",
     "text": [
      " 36%|███▌      | 59/164 [00:41<01:44,  1.00it/s]"
     ]
    },
    {
     "name": "stdout",
     "output_type": "stream",
     "text": [
      "Failed to create buggy problem for task HumanEval/53\n"
     ]
    },
    {
     "name": "stderr",
     "output_type": "stream",
     "text": [
      " 41%|████      | 67/164 [00:46<00:57,  1.70it/s]"
     ]
    },
    {
     "name": "stdout",
     "output_type": "stream",
     "text": [
      "Failed to create buggy problem for task HumanEval/48\n"
     ]
    },
    {
     "name": "stderr",
     "output_type": "stream",
     "text": [
      " 44%|████▍     | 72/164 [00:48<00:37,  2.44it/s]"
     ]
    },
    {
     "name": "stdout",
     "output_type": "stream",
     "text": [
      "Failed to create buggy problem for task HumanEval/47\n"
     ]
    },
    {
     "name": "stderr",
     "output_type": "stream",
     "text": [
      " 51%|█████     | 83/164 [00:56<01:05,  1.24it/s]"
     ]
    },
    {
     "name": "stdout",
     "output_type": "stream",
     "text": [
      "Failed to create buggy problem for task HumanEval/59\n"
     ]
    },
    {
     "name": "stderr",
     "output_type": "stream",
     "text": [
      " 65%|██████▌   | 107/164 [01:09<00:29,  1.96it/s]"
     ]
    },
    {
     "name": "stdout",
     "output_type": "stream",
     "text": [
      "Failed to create buggy problem for task HumanEval/86\n"
     ]
    },
    {
     "name": "stderr",
     "output_type": "stream",
     "text": [
      " 87%|████████▋ | 142/164 [01:41<00:28,  1.30s/it]"
     ]
    },
    {
     "name": "stdout",
     "output_type": "stream",
     "text": [
      "Failed to create buggy problem for task HumanEval/135\n"
     ]
    },
    {
     "name": "stderr",
     "output_type": "stream",
     "text": [
      " 88%|████████▊ | 144/164 [01:45<00:30,  1.54s/it]"
     ]
    },
    {
     "name": "stdout",
     "output_type": "stream",
     "text": [
      "Failed to create buggy problem for task HumanEval/124\n"
     ]
    },
    {
     "name": "stderr",
     "output_type": "stream",
     "text": [
      " 88%|████████▊ | 145/164 [01:45<00:22,  1.16s/it]"
     ]
    },
    {
     "name": "stdout",
     "output_type": "stream",
     "text": [
      "Failed to create buggy problem for task HumanEval/127\n"
     ]
    },
    {
     "name": "stderr",
     "output_type": "stream",
     "text": [
      " 96%|█████████▌| 157/164 [01:58<00:09,  1.39s/it]"
     ]
    },
    {
     "name": "stdout",
     "output_type": "stream",
     "text": [
      "Failed to create buggy problem for task HumanEval/146\n"
     ]
    },
    {
     "name": "stderr",
     "output_type": "stream",
     "text": [
      " 98%|█████████▊| 160/164 [02:06<00:10,  2.56s/it]"
     ]
    },
    {
     "name": "stdout",
     "output_type": "stream",
     "text": [
      "Failed to create buggy problem for task HumanEval/159\n"
     ]
    },
    {
     "name": "stderr",
     "output_type": "stream",
     "text": [
      " 98%|█████████▊| 161/164 [02:07<00:06,  2.03s/it]"
     ]
    },
    {
     "name": "stdout",
     "output_type": "stream",
     "text": [
      "Failed to create buggy problem for task HumanEval/162\n"
     ]
    },
    {
     "name": "stderr",
     "output_type": "stream",
     "text": [
      " 99%|█████████▉| 162/164 [02:09<00:03,  1.99s/it]"
     ]
    },
    {
     "name": "stdout",
     "output_type": "stream",
     "text": [
      "Failed to create buggy problem for task HumanEval/143\n"
     ]
    },
    {
     "name": "stderr",
     "output_type": "stream",
     "text": [
      " 99%|█████████▉| 163/164 [02:20<00:04,  4.75s/it]"
     ]
    },
    {
     "name": "stdout",
     "output_type": "stream",
     "text": [
      "Failed to create buggy problem for task HumanEval/148\n"
     ]
    },
    {
     "name": "stderr",
     "output_type": "stream",
     "text": [
      "100%|██████████| 164/164 [02:21<00:00,  1.16it/s]"
     ]
    },
    {
     "name": "stdout",
     "output_type": "stream",
     "text": [
      "Failed to create buggy problem for task HumanEval/79\n",
      "Total problems: 164\n",
      "Buggy problems created: 142\n"
     ]
    },
    {
     "name": "stderr",
     "output_type": "stream",
     "text": [
      "\n"
     ]
    }
   ],
   "source": [
    "problems = read_problems()\n",
    "buggy_problems = create_problems_with_bug_parallel(problems)\n",
    "\n",
    "# Print some statistics\n",
    "print(f\"Total problems: {len(problems)}\")\n",
    "print(f\"Buggy problems created: {len(buggy_problems)}\")\n",
    "\n",
    "# Optionally, you can save the buggy_problems to a file\n",
    "with open('data/human_eval_with_bugs.json', 'w') as f:\n",
    "    json.dump(buggy_problems, f)"
   ]
  }
 ],
 "metadata": {
  "kernelspec": {
   "display_name": "intract",
   "language": "python",
   "name": "python3"
  },
  "language_info": {
   "codemirror_mode": {
    "name": "ipython",
    "version": 3
   },
   "file_extension": ".py",
   "mimetype": "text/x-python",
   "name": "python",
   "nbconvert_exporter": "python",
   "pygments_lexer": "ipython3",
   "version": "3.9.16"
  }
 },
 "nbformat": 4,
 "nbformat_minor": 2
}
